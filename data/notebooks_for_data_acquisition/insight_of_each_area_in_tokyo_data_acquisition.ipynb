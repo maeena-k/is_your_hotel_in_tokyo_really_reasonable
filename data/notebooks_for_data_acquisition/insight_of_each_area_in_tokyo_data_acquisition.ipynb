{
  "nbformat": 4,
  "nbformat_minor": 0,
  "metadata": {
    "colab": {
      "name": "insight_of_each_area_in_tokyo_data_acquisition.ipynb",
      "provenance": []
    },
    "kernelspec": {
      "name": "python3",
      "display_name": "Python 3"
    },
    "widgets": {
      "application/vnd.jupyter.widget-state+json": {
        "7fb6699dbf694998815e7833b9f9037c": {
          "model_module": "@jupyter-widgets/controls",
          "model_name": "HBoxModel",
          "state": {
            "_view_name": "HBoxView",
            "_dom_classes": [],
            "_model_name": "HBoxModel",
            "_view_module": "@jupyter-widgets/controls",
            "_model_module_version": "1.5.0",
            "_view_count": null,
            "_view_module_version": "1.5.0",
            "box_style": "",
            "layout": "IPY_MODEL_61006123dff246a087e298fbb61cf330",
            "_model_module": "@jupyter-widgets/controls",
            "children": [
              "IPY_MODEL_dea8d55e4ae9408fad8e632975d5e6e2",
              "IPY_MODEL_66b969a9aa7d49febf22d1db4961fe6e"
            ]
          }
        },
        "61006123dff246a087e298fbb61cf330": {
          "model_module": "@jupyter-widgets/base",
          "model_name": "LayoutModel",
          "state": {
            "_view_name": "LayoutView",
            "grid_template_rows": null,
            "right": null,
            "justify_content": null,
            "_view_module": "@jupyter-widgets/base",
            "overflow": null,
            "_model_module_version": "1.2.0",
            "_view_count": null,
            "flex_flow": null,
            "width": null,
            "min_width": null,
            "border": null,
            "align_items": null,
            "bottom": null,
            "_model_module": "@jupyter-widgets/base",
            "top": null,
            "grid_column": null,
            "overflow_y": null,
            "overflow_x": null,
            "grid_auto_flow": null,
            "grid_area": null,
            "grid_template_columns": null,
            "flex": null,
            "_model_name": "LayoutModel",
            "justify_items": null,
            "grid_row": null,
            "max_height": null,
            "align_content": null,
            "visibility": null,
            "align_self": null,
            "height": null,
            "min_height": null,
            "padding": null,
            "grid_auto_rows": null,
            "grid_gap": null,
            "max_width": null,
            "order": null,
            "_view_module_version": "1.2.0",
            "grid_template_areas": null,
            "object_position": null,
            "object_fit": null,
            "grid_auto_columns": null,
            "margin": null,
            "display": null,
            "left": null
          }
        },
        "dea8d55e4ae9408fad8e632975d5e6e2": {
          "model_module": "@jupyter-widgets/controls",
          "model_name": "FloatProgressModel",
          "state": {
            "_view_name": "ProgressView",
            "style": "IPY_MODEL_35c46bed5908434ea3432dcb4b60c6aa",
            "_dom_classes": [],
            "description": "100%",
            "_model_name": "FloatProgressModel",
            "bar_style": "success",
            "max": 62,
            "_view_module": "@jupyter-widgets/controls",
            "_model_module_version": "1.5.0",
            "value": 62,
            "_view_count": null,
            "_view_module_version": "1.5.0",
            "orientation": "horizontal",
            "min": 0,
            "description_tooltip": null,
            "_model_module": "@jupyter-widgets/controls",
            "layout": "IPY_MODEL_1a7ce92a2a25423e8f19257f0c9b3424"
          }
        },
        "66b969a9aa7d49febf22d1db4961fe6e": {
          "model_module": "@jupyter-widgets/controls",
          "model_name": "HTMLModel",
          "state": {
            "_view_name": "HTMLView",
            "style": "IPY_MODEL_9605dd591abb46138a78c41345c128aa",
            "_dom_classes": [],
            "description": "",
            "_model_name": "HTMLModel",
            "placeholder": "​",
            "_view_module": "@jupyter-widgets/controls",
            "_model_module_version": "1.5.0",
            "value": " 62/62 [00:25&lt;00:00,  2.48it/s]",
            "_view_count": null,
            "_view_module_version": "1.5.0",
            "description_tooltip": null,
            "_model_module": "@jupyter-widgets/controls",
            "layout": "IPY_MODEL_4400d7629199476482c159920f1cc334"
          }
        },
        "35c46bed5908434ea3432dcb4b60c6aa": {
          "model_module": "@jupyter-widgets/controls",
          "model_name": "ProgressStyleModel",
          "state": {
            "_view_name": "StyleView",
            "_model_name": "ProgressStyleModel",
            "description_width": "initial",
            "_view_module": "@jupyter-widgets/base",
            "_model_module_version": "1.5.0",
            "_view_count": null,
            "_view_module_version": "1.2.0",
            "bar_color": null,
            "_model_module": "@jupyter-widgets/controls"
          }
        },
        "1a7ce92a2a25423e8f19257f0c9b3424": {
          "model_module": "@jupyter-widgets/base",
          "model_name": "LayoutModel",
          "state": {
            "_view_name": "LayoutView",
            "grid_template_rows": null,
            "right": null,
            "justify_content": null,
            "_view_module": "@jupyter-widgets/base",
            "overflow": null,
            "_model_module_version": "1.2.0",
            "_view_count": null,
            "flex_flow": null,
            "width": null,
            "min_width": null,
            "border": null,
            "align_items": null,
            "bottom": null,
            "_model_module": "@jupyter-widgets/base",
            "top": null,
            "grid_column": null,
            "overflow_y": null,
            "overflow_x": null,
            "grid_auto_flow": null,
            "grid_area": null,
            "grid_template_columns": null,
            "flex": null,
            "_model_name": "LayoutModel",
            "justify_items": null,
            "grid_row": null,
            "max_height": null,
            "align_content": null,
            "visibility": null,
            "align_self": null,
            "height": null,
            "min_height": null,
            "padding": null,
            "grid_auto_rows": null,
            "grid_gap": null,
            "max_width": null,
            "order": null,
            "_view_module_version": "1.2.0",
            "grid_template_areas": null,
            "object_position": null,
            "object_fit": null,
            "grid_auto_columns": null,
            "margin": null,
            "display": null,
            "left": null
          }
        },
        "9605dd591abb46138a78c41345c128aa": {
          "model_module": "@jupyter-widgets/controls",
          "model_name": "DescriptionStyleModel",
          "state": {
            "_view_name": "StyleView",
            "_model_name": "DescriptionStyleModel",
            "description_width": "",
            "_view_module": "@jupyter-widgets/base",
            "_model_module_version": "1.5.0",
            "_view_count": null,
            "_view_module_version": "1.2.0",
            "_model_module": "@jupyter-widgets/controls"
          }
        },
        "4400d7629199476482c159920f1cc334": {
          "model_module": "@jupyter-widgets/base",
          "model_name": "LayoutModel",
          "state": {
            "_view_name": "LayoutView",
            "grid_template_rows": null,
            "right": null,
            "justify_content": null,
            "_view_module": "@jupyter-widgets/base",
            "overflow": null,
            "_model_module_version": "1.2.0",
            "_view_count": null,
            "flex_flow": null,
            "width": null,
            "min_width": null,
            "border": null,
            "align_items": null,
            "bottom": null,
            "_model_module": "@jupyter-widgets/base",
            "top": null,
            "grid_column": null,
            "overflow_y": null,
            "overflow_x": null,
            "grid_auto_flow": null,
            "grid_area": null,
            "grid_template_columns": null,
            "flex": null,
            "_model_name": "LayoutModel",
            "justify_items": null,
            "grid_row": null,
            "max_height": null,
            "align_content": null,
            "visibility": null,
            "align_self": null,
            "height": null,
            "min_height": null,
            "padding": null,
            "grid_auto_rows": null,
            "grid_gap": null,
            "max_width": null,
            "order": null,
            "_view_module_version": "1.2.0",
            "grid_template_areas": null,
            "object_position": null,
            "object_fit": null,
            "grid_auto_columns": null,
            "margin": null,
            "display": null,
            "left": null
          }
        }
      }
    }
  },
  "cells": [
    {
      "cell_type": "markdown",
      "metadata": {
        "id": "3OmVBWa3lAKt",
        "colab_type": "text"
      },
      "source": [
        "# 4 STEP TO GET DATASETS FOR INSIGHT OF EACH AREA IN TOKYO\n",
        "\n",
        "## 1. Import Libraries and Pre-process\n",
        "## 2. Get the Names and Locations of Yamanote Line Station\n",
        "## 3. Get the Names and Locations of Most Popular Sightseeging Spots \n",
        "## 4. See What Kind Of and How Many Spots in Each Area in Tokyo"
      ]
    },
    {
      "cell_type": "markdown",
      "metadata": {
        "id": "4B3tDIFvlbKt",
        "colab_type": "text"
      },
      "source": [
        "### 1. Import Libraries and Pre-Process\n",
        "\n",
        "*   Import libraries\n",
        "*   Upload CSV of Tokyo land price list and save as a DataFrame\n",
        "*   Pickup one location for each area in Tokyo and Save it as a new DataFrame\n",
        "\n"
      ]
    },
    {
      "cell_type": "code",
      "metadata": {
        "id": "OZWBVp0Gkqw6",
        "colab_type": "code",
        "colab": {}
      },
      "source": [
        "# for data processing\n",
        "import pandas as pd\n",
        "import numpy as np\n",
        "import io\n",
        "from tqdm.notebook import tqdm\n",
        "from datetime import datetime\n",
        "import re\n",
        "\n",
        "# for credential info\n",
        "from getpass import getpass\n",
        "\n",
        "# for sending GET requets\n",
        "import requests\n",
        "from bs4 import BeautifulSoup\n",
        "\n",
        "# for uploading and downloading a csv file(if you use Google Colab)\n",
        "from google.colab import files"
      ],
      "execution_count": 1,
      "outputs": []
    },
    {
      "cell_type": "code",
      "metadata": {
        "id": "bjLNJbQ6o6zR",
        "colab_type": "code",
        "colab": {
          "resources": {
            "http://localhost:8080/nbextensions/google.colab/files.js": {
              "data": "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",
              "ok": true,
              "headers": [
                [
                  "content-type",
                  "application/javascript"
                ]
              ],
              "status": 200,
              "status_text": ""
            }
          },
          "base_uri": "https://localhost:8080/",
          "height": 72
        },
        "outputId": "92fa5b6b-a705-4110-e98d-e85720d6b911"
      },
      "source": [
        "# uploading csv of Tokyo land price list\n",
        "csv = files.upload()"
      ],
      "execution_count": 2,
      "outputs": [
        {
          "output_type": "display_data",
          "data": {
            "text/html": [
              "\n",
              "     <input type=\"file\" id=\"files-aa0f9a89-e8fc-4645-af9c-2cf95746ce4e\" name=\"files[]\" multiple disabled\n",
              "        style=\"border:none\" />\n",
              "     <output id=\"result-aa0f9a89-e8fc-4645-af9c-2cf95746ce4e\">\n",
              "      Upload widget is only available when the cell has been executed in the\n",
              "      current browser session. Please rerun this cell to enable.\n",
              "      </output>\n",
              "      <script src=\"/nbextensions/google.colab/files.js\"></script> "
            ],
            "text/plain": [
              "<IPython.core.display.HTML object>"
            ]
          },
          "metadata": {
            "tags": []
          }
        },
        {
          "output_type": "stream",
          "text": [
            "Saving tokyo_land_price_data.csv to tokyo_land_price_data (1).csv\n"
          ],
          "name": "stdout"
        }
      ]
    },
    {
      "cell_type": "code",
      "metadata": {
        "id": "s0lXYLfgpQhD",
        "colab_type": "code",
        "colab": {
          "base_uri": "https://localhost:8080/",
          "height": 200
        },
        "outputId": "4730a556-ab54-4c9c-932d-09687a9eb3df"
      },
      "source": [
        "# save the csv to pandas DataFrame\n",
        "tokyo_land_price_list = pd.read_csv(io.BytesIO(csv['tokyo_land_price_data.csv']), index_col=0)\n",
        "tokyo_land_price_list.head()"
      ],
      "execution_count": 3,
      "outputs": [
        {
          "output_type": "execute_result",
          "data": {
            "text/html": [
              "<div>\n",
              "<style scoped>\n",
              "    .dataframe tbody tr th:only-of-type {\n",
              "        vertical-align: middle;\n",
              "    }\n",
              "\n",
              "    .dataframe tbody tr th {\n",
              "        vertical-align: top;\n",
              "    }\n",
              "\n",
              "    .dataframe thead th {\n",
              "        text-align: right;\n",
              "    }\n",
              "</style>\n",
              "<table border=\"1\" class=\"dataframe\">\n",
              "  <thead>\n",
              "    <tr style=\"text-align: right;\">\n",
              "      <th></th>\n",
              "      <th>area_name</th>\n",
              "      <th>address_detail</th>\n",
              "      <th>lat</th>\n",
              "      <th>lon</th>\n",
              "      <th>land_price_per_square_meter</th>\n",
              "    </tr>\n",
              "  </thead>\n",
              "  <tbody>\n",
              "    <tr>\n",
              "      <th>0</th>\n",
              "      <td>Chiyoda City</td>\n",
              "      <td>6-25 Sanbanchō, Chiyoda City, Tōkyō-to 102-007...</td>\n",
              "      <td>35.690086</td>\n",
              "      <td>139.744837</td>\n",
              "      <td>3160000.0</td>\n",
              "    </tr>\n",
              "    <tr>\n",
              "      <th>1</th>\n",
              "      <td>Chiyoda City</td>\n",
              "      <td>3-27 Kioichō, Chiyoda City, Tōkyō-to 102-0094,...</td>\n",
              "      <td>35.682015</td>\n",
              "      <td>139.737615</td>\n",
              "      <td>2020000.0</td>\n",
              "    </tr>\n",
              "    <tr>\n",
              "      <th>2</th>\n",
              "      <td>Chiyoda City</td>\n",
              "      <td>6-1 Rokubanchō, Chiyoda City, Tōkyō-to 102-008...</td>\n",
              "      <td>35.688143</td>\n",
              "      <td>139.732869</td>\n",
              "      <td>4050000.0</td>\n",
              "    </tr>\n",
              "    <tr>\n",
              "      <th>3</th>\n",
              "      <td>Chiyoda City</td>\n",
              "      <td>1-chōme-8-6 Fujimi, Chiyoda City, Tōkyō-to 102...</td>\n",
              "      <td>35.697784</td>\n",
              "      <td>139.745095</td>\n",
              "      <td>1550000.0</td>\n",
              "    </tr>\n",
              "    <tr>\n",
              "      <th>4</th>\n",
              "      <td>Chiyoda City</td>\n",
              "      <td>2 Chome Kudankita, Chiyoda City, Tokyo 102-007...</td>\n",
              "      <td>35.695576</td>\n",
              "      <td>139.746362</td>\n",
              "      <td>2960000.0</td>\n",
              "    </tr>\n",
              "  </tbody>\n",
              "</table>\n",
              "</div>"
            ],
            "text/plain": [
              "      area_name  ... land_price_per_square_meter\n",
              "0  Chiyoda City  ...                   3160000.0\n",
              "1  Chiyoda City  ...                   2020000.0\n",
              "2  Chiyoda City  ...                   4050000.0\n",
              "3  Chiyoda City  ...                   1550000.0\n",
              "4  Chiyoda City  ...                   2960000.0\n",
              "\n",
              "[5 rows x 5 columns]"
            ]
          },
          "metadata": {
            "tags": []
          },
          "execution_count": 3
        }
      ]
    },
    {
      "cell_type": "code",
      "metadata": {
        "id": "ZG1Q2c95MS3P",
        "colab_type": "code",
        "colab": {
          "base_uri": "https://localhost:8080/",
          "height": 230
        },
        "outputId": "cebce6ca-ed2f-4b02-db2d-edbffd33e593"
      },
      "source": [
        "# pick up median spot for each area name(for easier processing)\n",
        "each_area_tokyo_median = tokyo_land_price_list.groupby('area_name').median()\n",
        "each_area_tokyo_median.head()"
      ],
      "execution_count": 4,
      "outputs": [
        {
          "output_type": "execute_result",
          "data": {
            "text/html": [
              "<div>\n",
              "<style scoped>\n",
              "    .dataframe tbody tr th:only-of-type {\n",
              "        vertical-align: middle;\n",
              "    }\n",
              "\n",
              "    .dataframe tbody tr th {\n",
              "        vertical-align: top;\n",
              "    }\n",
              "\n",
              "    .dataframe thead th {\n",
              "        text-align: right;\n",
              "    }\n",
              "</style>\n",
              "<table border=\"1\" class=\"dataframe\">\n",
              "  <thead>\n",
              "    <tr style=\"text-align: right;\">\n",
              "      <th></th>\n",
              "      <th>lat</th>\n",
              "      <th>lon</th>\n",
              "      <th>land_price_per_square_meter</th>\n",
              "    </tr>\n",
              "    <tr>\n",
              "      <th>area_name</th>\n",
              "      <th></th>\n",
              "      <th></th>\n",
              "      <th></th>\n",
              "    </tr>\n",
              "  </thead>\n",
              "  <tbody>\n",
              "    <tr>\n",
              "      <th>Adachi City</th>\n",
              "      <td>35.777899</td>\n",
              "      <td>139.800360</td>\n",
              "      <td>312500.0</td>\n",
              "    </tr>\n",
              "    <tr>\n",
              "      <th>Akiruno</th>\n",
              "      <td>35.729667</td>\n",
              "      <td>139.291109</td>\n",
              "      <td>97050.0</td>\n",
              "    </tr>\n",
              "    <tr>\n",
              "      <th>Akishima</th>\n",
              "      <td>35.707862</td>\n",
              "      <td>139.363728</td>\n",
              "      <td>186000.0</td>\n",
              "    </tr>\n",
              "    <tr>\n",
              "      <th>Arakawa City</th>\n",
              "      <td>35.736194</td>\n",
              "      <td>139.777149</td>\n",
              "      <td>545000.0</td>\n",
              "    </tr>\n",
              "    <tr>\n",
              "      <th>Bunkyo City</th>\n",
              "      <td>35.717668</td>\n",
              "      <td>139.751204</td>\n",
              "      <td>1040000.0</td>\n",
              "    </tr>\n",
              "  </tbody>\n",
              "</table>\n",
              "</div>"
            ],
            "text/plain": [
              "                    lat         lon  land_price_per_square_meter\n",
              "area_name                                                       \n",
              "Adachi City   35.777899  139.800360                     312500.0\n",
              "Akiruno       35.729667  139.291109                      97050.0\n",
              "Akishima      35.707862  139.363728                     186000.0\n",
              "Arakawa City  35.736194  139.777149                     545000.0\n",
              "Bunkyo City   35.717668  139.751204                    1040000.0"
            ]
          },
          "metadata": {
            "tags": []
          },
          "execution_count": 4
        }
      ]
    },
    {
      "cell_type": "markdown",
      "metadata": {
        "id": "KH3EQ_LVow6Z",
        "colab_type": "text"
      },
      "source": [
        "### 2. Get the Names and Locations of Yamanote Line Station\n",
        "\n",
        "*   Get the names of station names from a wikipedia page\n",
        "*   Get the locations of stasion by using Google Geocoding API\n",
        "*   Save them as a DataFrame\n",
        "\n",
        "<br>\n",
        "*To use Google Geocoding API, You need to have your API key ready.<br>\n",
        "Check the link below for more information.<br>\n",
        "\n",
        "<a href=\"\" target=\"_blank\">Google Geocoding API</a>\n"
      ]
    },
    {
      "cell_type": "code",
      "metadata": {
        "id": "0yNaphHiTAiQ",
        "colab_type": "code",
        "colab": {}
      },
      "source": [
        "# send GET request to have all the staion names of Yamanote Line\n",
        "req = requests.get('https://en.wikipedia.org/wiki/Yamanote_Line')\n",
        "response = BeautifulSoup(req.text, 'html.parser')\n",
        "table = response.find('table', attrs={'class':'wikitable sortable mw-collapsible'})\n",
        "rows = table.find_all('tr')\n",
        "\n",
        "station_name_list = []\n",
        "for row in rows:\n",
        "  columns = row.find_all('td')\n",
        "  if columns != [] and len(columns) >= 2:\n",
        "    num = 0\n",
        "    if 'Line' in columns[0].text:\n",
        "      num = 1\n",
        "    station_num = int(re.sub('[\\r\\n]', '', columns[num].text[-3:]))\n",
        "    station_name = re.sub('\\\\[.+\\\\]|[\\r\\n]', '', columns[num+1].text)\n",
        "    if [station_num, station_name] not in station_name_list:\n",
        "      station_name_list.append([station_num, station_name])"
      ],
      "execution_count": 5,
      "outputs": []
    },
    {
      "cell_type": "code",
      "metadata": {
        "id": "kcq8DKXfijfr",
        "colab_type": "code",
        "colab": {
          "base_uri": "https://localhost:8080/",
          "height": 54
        },
        "outputId": "61dc8ed2-c1b6-460b-85fa-94c50adbbb9b"
      },
      "source": [
        "# process the station list\n",
        "station_name_list = [[station[0], '{} Station'.format(station[1])] for station in station_name_list]\n",
        "station_name_list.sort(key=lambda num:num[0])\n",
        "print(station_name_list)"
      ],
      "execution_count": 6,
      "outputs": [
        {
          "output_type": "stream",
          "text": [
            "[[1, 'Tokyo Station'], [2, 'Kanda Station'], [3, 'Akihabara Station'], [4, 'Okachimachi Station'], [5, 'Ueno Station'], [6, 'Uguisudani Station'], [7, 'Nippori Station'], [8, 'Nishi-Nippori Station'], [9, 'Tabata Station'], [10, 'Komagome Station'], [11, 'Sugamo Station'], [12, 'Ōtsuka Station'], [13, 'Ikebukuro Station'], [14, 'Mejiro Station'], [15, 'Takadanobaba Station'], [16, 'Shin-Ōkubo Station'], [17, 'Shinjuku Station'], [18, 'Yoyogi Station'], [19, 'Harajuku Station'], [20, 'Shibuya Station'], [21, 'Ebisu Station'], [22, 'Meguro Station'], [23, 'Gotanda Station'], [24, 'Ōsaki Station'], [25, 'Shinagawa Station'], [26, 'Takanawa Gateway Station'], [27, 'Tamachi Station'], [28, 'Hamamatsuchō Station'], [29, 'Shimbashi Station'], [30, 'Yūrakuchō Station']]\n"
          ],
          "name": "stdout"
        }
      ]
    },
    {
      "cell_type": "code",
      "metadata": {
        "id": "P0FDLJlM_xfI",
        "colab_type": "code",
        "colab": {
          "base_uri": "https://localhost:8080/",
          "height": 34
        },
        "outputId": "bd6ab26b-7d0b-4c4e-90b3-d90ee1cdcd00"
      },
      "source": [
        "# save credential info\n",
        "GOOGLE_API_KEY = getpass('INPUT GOOGLE API KEY: ')"
      ],
      "execution_count": 7,
      "outputs": [
        {
          "output_type": "stream",
          "text": [
            "INPUT GOOGLE API KEY: ··········\n"
          ],
          "name": "stdout"
        }
      ]
    },
    {
      "cell_type": "code",
      "metadata": {
        "id": "Ah6nBdi7nw9m",
        "colab_type": "code",
        "colab": {}
      },
      "source": [
        "# Get latitude and longitude foe each station\n",
        "station_list = []\n",
        "for station in station_name_list:\n",
        "  station_num = station[0]\n",
        "  station_name = station[1]\n",
        "  link = 'https://maps.googleapis.com/maps/api/geocode/json?address={}&key={}&language=en&region=jp'.format(station_name, GOOGLE_API_KEY)\n",
        "  response = requests.get(link).json()\n",
        "  lat = response['results'][0]['geometry']['location']['lat']\n",
        "  lon = response['results'][0]['geometry']['location']['lng']\n",
        "  station_list.append([station_num, station_name, lat, lon])"
      ],
      "execution_count": 8,
      "outputs": []
    },
    {
      "cell_type": "code",
      "metadata": {
        "id": "cvj21_JWiolI",
        "colab_type": "code",
        "colab": {
          "base_uri": "https://localhost:8080/",
          "height": 200
        },
        "outputId": "d0d0cf67-5b0f-46fe-cd33-e4f3851c6d69"
      },
      "source": [
        "# create new DataFrame from the list\n",
        "yamanote_station_df = pd.DataFrame(station_list, columns=['station_num', 'station_name', 'latitude', 'longitude'])\n",
        "yamanote_station_df.head()"
      ],
      "execution_count": 9,
      "outputs": [
        {
          "output_type": "execute_result",
          "data": {
            "text/html": [
              "<div>\n",
              "<style scoped>\n",
              "    .dataframe tbody tr th:only-of-type {\n",
              "        vertical-align: middle;\n",
              "    }\n",
              "\n",
              "    .dataframe tbody tr th {\n",
              "        vertical-align: top;\n",
              "    }\n",
              "\n",
              "    .dataframe thead th {\n",
              "        text-align: right;\n",
              "    }\n",
              "</style>\n",
              "<table border=\"1\" class=\"dataframe\">\n",
              "  <thead>\n",
              "    <tr style=\"text-align: right;\">\n",
              "      <th></th>\n",
              "      <th>station_num</th>\n",
              "      <th>station_name</th>\n",
              "      <th>latitude</th>\n",
              "      <th>longitude</th>\n",
              "    </tr>\n",
              "  </thead>\n",
              "  <tbody>\n",
              "    <tr>\n",
              "      <th>0</th>\n",
              "      <td>1</td>\n",
              "      <td>Tokyo Station</td>\n",
              "      <td>35.681236</td>\n",
              "      <td>139.767125</td>\n",
              "    </tr>\n",
              "    <tr>\n",
              "      <th>1</th>\n",
              "      <td>2</td>\n",
              "      <td>Kanda Station</td>\n",
              "      <td>35.691822</td>\n",
              "      <td>139.770932</td>\n",
              "    </tr>\n",
              "    <tr>\n",
              "      <th>2</th>\n",
              "      <td>3</td>\n",
              "      <td>Akihabara Station</td>\n",
              "      <td>35.698383</td>\n",
              "      <td>139.773072</td>\n",
              "    </tr>\n",
              "    <tr>\n",
              "      <th>3</th>\n",
              "      <td>4</td>\n",
              "      <td>Okachimachi Station</td>\n",
              "      <td>35.707518</td>\n",
              "      <td>139.774856</td>\n",
              "    </tr>\n",
              "    <tr>\n",
              "      <th>4</th>\n",
              "      <td>5</td>\n",
              "      <td>Ueno Station</td>\n",
              "      <td>35.714167</td>\n",
              "      <td>139.777409</td>\n",
              "    </tr>\n",
              "  </tbody>\n",
              "</table>\n",
              "</div>"
            ],
            "text/plain": [
              "   station_num         station_name   latitude   longitude\n",
              "0            1        Tokyo Station  35.681236  139.767125\n",
              "1            2        Kanda Station  35.691822  139.770932\n",
              "2            3    Akihabara Station  35.698383  139.773072\n",
              "3            4  Okachimachi Station  35.707518  139.774856\n",
              "4            5         Ueno Station  35.714167  139.777409"
            ]
          },
          "metadata": {
            "tags": []
          },
          "execution_count": 9
        }
      ]
    },
    {
      "cell_type": "code",
      "metadata": {
        "id": "lorWEGnNQK96",
        "colab_type": "code",
        "colab": {
          "base_uri": "https://localhost:8080/",
          "height": 17
        },
        "outputId": "39a46148-5a45-425c-a7d6-e5fccb9d2c46"
      },
      "source": [
        "# dodnload the DataFrame as CSV file\n",
        "yamanote_station_df.to_csv('yamanote_station.csv')\n",
        "files.download('yamanote_station.csv')"
      ],
      "execution_count": 10,
      "outputs": [
        {
          "output_type": "display_data",
          "data": {
            "application/javascript": [
              "\n",
              "    async function download(id, filename, size) {\n",
              "      if (!google.colab.kernel.accessAllowed) {\n",
              "        return;\n",
              "      }\n",
              "      const div = document.createElement('div');\n",
              "      const label = document.createElement('label');\n",
              "      label.textContent = `Downloading \"${filename}\": `;\n",
              "      div.appendChild(label);\n",
              "      const progress = document.createElement('progress');\n",
              "      progress.max = size;\n",
              "      div.appendChild(progress);\n",
              "      document.body.appendChild(div);\n",
              "\n",
              "      const buffers = [];\n",
              "      let downloaded = 0;\n",
              "\n",
              "      const channel = await google.colab.kernel.comms.open(id);\n",
              "      // Send a message to notify the kernel that we're ready.\n",
              "      channel.send({})\n",
              "\n",
              "      for await (const message of channel.messages) {\n",
              "        // Send a message to notify the kernel that we're ready.\n",
              "        channel.send({})\n",
              "        if (message.buffers) {\n",
              "          for (const buffer of message.buffers) {\n",
              "            buffers.push(buffer);\n",
              "            downloaded += buffer.byteLength;\n",
              "            progress.value = downloaded;\n",
              "          }\n",
              "        }\n",
              "      }\n",
              "      const blob = new Blob(buffers, {type: 'application/binary'});\n",
              "      const a = document.createElement('a');\n",
              "      a.href = window.URL.createObjectURL(blob);\n",
              "      a.download = filename;\n",
              "      div.appendChild(a);\n",
              "      a.click();\n",
              "      div.remove();\n",
              "    }\n",
              "  "
            ],
            "text/plain": [
              "<IPython.core.display.Javascript object>"
            ]
          },
          "metadata": {
            "tags": []
          }
        },
        {
          "output_type": "display_data",
          "data": {
            "application/javascript": [
              "download(\"download_4a03547d-b017-4700-ac50-f31450c41360\", \"yamanote_station.csv\", 1424)"
            ],
            "text/plain": [
              "<IPython.core.display.Javascript object>"
            ]
          },
          "metadata": {
            "tags": []
          }
        }
      ]
    },
    {
      "cell_type": "markdown",
      "metadata": {
        "id": "iFChhSjZRyZq",
        "colab_type": "text"
      },
      "source": [
        "###3. Get the Names and Locations of Most Popular Sightseeging Spots\n",
        "\n",
        "*   Same process as Step2"
      ]
    },
    {
      "cell_type": "code",
      "metadata": {
        "id": "ckMogFWAD-dM",
        "colab_type": "code",
        "colab": {
          "base_uri": "https://localhost:8080/",
          "height": 54
        },
        "outputId": "f234e401-fac6-4658-fdff-9d8c258fc83c"
      },
      "source": [
        "# Send GET requests to have the names of 10 most popular sightseeing spots in Tokyo\n",
        "req = requests.get('https://matcha-jp.com/en/2589')\n",
        "response = BeautifulSoup(req.text, 'html.parser')\n",
        "\n",
        "h2_tags = response.find_all('h2')\n",
        "\n",
        "popular_sight_name_list = []\n",
        "row_count = len(h2_tags)\n",
        "\n",
        "for i in range(row_count):\n",
        "  if re.search('\\d{1,2}', h2_tags[i].text) != None:\n",
        "    popular_sight_name_list.append([i, re.sub('(-|at)\\s', '', re.search('(-|at)\\s.+', h2_tags[i].text).group())])\n",
        "\n",
        "print(popular_sight_name_list)"
      ],
      "execution_count": 11,
      "outputs": [
        {
          "output_type": "stream",
          "text": [
            "[[1, 'Sensoji Temple'], [2, 'Tsukiji Fish Market'], [3, 'Ameyoko'], [4, 'Scramble Crossing'], [5, 'Tokyo Skytree'], [6, 'Kabukiza Theater'], [7, 'Oedo Onsen Monogatari'], [8, 'Ghibli Museum'], [9, 'Roppongi Hills'], [10, 'Meiji Shrine']]\n"
          ],
          "name": "stdout"
        }
      ]
    },
    {
      "cell_type": "code",
      "metadata": {
        "id": "zubhYa1zOeuY",
        "colab_type": "code",
        "colab": {}
      },
      "source": [
        "# Get latitude and longitude for each spot\n",
        "popular_sight_list = []\n",
        "\n",
        "for spot in popular_sight_name_list:\n",
        "  spot_num = spot[0]\n",
        "  spot_name = spot[1]\n",
        "  link = 'https://maps.googleapis.com/maps/api/geocode/json?address={}&key={}&language=en&region=jp'.format(spot_name, GOOGLE_API_KEY)\n",
        "  response = requests.get(link).json()\n",
        "  lat = response['results'][0]['geometry']['location']['lat']\n",
        "  lon = response['results'][0]['geometry']['location']['lng']\n",
        "  popular_sight_list.append([spot_num, spot_name, lat, lon])"
      ],
      "execution_count": 12,
      "outputs": []
    },
    {
      "cell_type": "code",
      "metadata": {
        "id": "GbsnP-dBPNQ6",
        "colab_type": "code",
        "colab": {
          "base_uri": "https://localhost:8080/",
          "height": 351
        },
        "outputId": "97003150-e691-455f-d1c4-903967fe2a9f"
      },
      "source": [
        "# create new DataFrame from the list\n",
        "popular_sight_df = pd.DataFrame(popular_sight_list, columns=['spot_num', 'spot_name', 'latitude', 'longitude'])\n",
        "popular_sight_df.head(10)"
      ],
      "execution_count": 13,
      "outputs": [
        {
          "output_type": "execute_result",
          "data": {
            "text/html": [
              "<div>\n",
              "<style scoped>\n",
              "    .dataframe tbody tr th:only-of-type {\n",
              "        vertical-align: middle;\n",
              "    }\n",
              "\n",
              "    .dataframe tbody tr th {\n",
              "        vertical-align: top;\n",
              "    }\n",
              "\n",
              "    .dataframe thead th {\n",
              "        text-align: right;\n",
              "    }\n",
              "</style>\n",
              "<table border=\"1\" class=\"dataframe\">\n",
              "  <thead>\n",
              "    <tr style=\"text-align: right;\">\n",
              "      <th></th>\n",
              "      <th>spot_num</th>\n",
              "      <th>spot_name</th>\n",
              "      <th>latitude</th>\n",
              "      <th>longitude</th>\n",
              "    </tr>\n",
              "  </thead>\n",
              "  <tbody>\n",
              "    <tr>\n",
              "      <th>0</th>\n",
              "      <td>1</td>\n",
              "      <td>Sensoji Temple</td>\n",
              "      <td>35.714765</td>\n",
              "      <td>139.796655</td>\n",
              "    </tr>\n",
              "    <tr>\n",
              "      <th>1</th>\n",
              "      <td>2</td>\n",
              "      <td>Tsukiji Fish Market</td>\n",
              "      <td>35.664997</td>\n",
              "      <td>139.769816</td>\n",
              "    </tr>\n",
              "    <tr>\n",
              "      <th>2</th>\n",
              "      <td>3</td>\n",
              "      <td>Ameyoko</td>\n",
              "      <td>35.710333</td>\n",
              "      <td>139.774483</td>\n",
              "    </tr>\n",
              "    <tr>\n",
              "      <th>3</th>\n",
              "      <td>4</td>\n",
              "      <td>Scramble Crossing</td>\n",
              "      <td>35.659467</td>\n",
              "      <td>139.700554</td>\n",
              "    </tr>\n",
              "    <tr>\n",
              "      <th>4</th>\n",
              "      <td>5</td>\n",
              "      <td>Tokyo Skytree</td>\n",
              "      <td>35.710063</td>\n",
              "      <td>139.810700</td>\n",
              "    </tr>\n",
              "    <tr>\n",
              "      <th>5</th>\n",
              "      <td>6</td>\n",
              "      <td>Kabukiza Theater</td>\n",
              "      <td>35.669458</td>\n",
              "      <td>139.767812</td>\n",
              "    </tr>\n",
              "    <tr>\n",
              "      <th>6</th>\n",
              "      <td>7</td>\n",
              "      <td>Oedo Onsen Monogatari</td>\n",
              "      <td>35.615839</td>\n",
              "      <td>139.777800</td>\n",
              "    </tr>\n",
              "    <tr>\n",
              "      <th>7</th>\n",
              "      <td>8</td>\n",
              "      <td>Ghibli Museum</td>\n",
              "      <td>35.696238</td>\n",
              "      <td>139.570432</td>\n",
              "    </tr>\n",
              "    <tr>\n",
              "      <th>8</th>\n",
              "      <td>9</td>\n",
              "      <td>Roppongi Hills</td>\n",
              "      <td>35.660238</td>\n",
              "      <td>139.730077</td>\n",
              "    </tr>\n",
              "    <tr>\n",
              "      <th>9</th>\n",
              "      <td>10</td>\n",
              "      <td>Meiji Shrine</td>\n",
              "      <td>35.676398</td>\n",
              "      <td>139.699326</td>\n",
              "    </tr>\n",
              "  </tbody>\n",
              "</table>\n",
              "</div>"
            ],
            "text/plain": [
              "   spot_num              spot_name   latitude   longitude\n",
              "0         1         Sensoji Temple  35.714765  139.796655\n",
              "1         2    Tsukiji Fish Market  35.664997  139.769816\n",
              "2         3                Ameyoko  35.710333  139.774483\n",
              "3         4      Scramble Crossing  35.659467  139.700554\n",
              "4         5          Tokyo Skytree  35.710063  139.810700\n",
              "5         6       Kabukiza Theater  35.669458  139.767812\n",
              "6         7  Oedo Onsen Monogatari  35.615839  139.777800\n",
              "7         8          Ghibli Museum  35.696238  139.570432\n",
              "8         9         Roppongi Hills  35.660238  139.730077\n",
              "9        10           Meiji Shrine  35.676398  139.699326"
            ]
          },
          "metadata": {
            "tags": []
          },
          "execution_count": 13
        }
      ]
    },
    {
      "cell_type": "code",
      "metadata": {
        "id": "X6kReR5BRGd9",
        "colab_type": "code",
        "colab": {
          "base_uri": "https://localhost:8080/",
          "height": 17
        },
        "outputId": "f8940c4c-e434-4682-f7d9-d3c948cde46f"
      },
      "source": [
        "# download the DataFrame as a CSV file\n",
        "popular_sight_df.to_csv('popular_sight_tokyo.csv')\n",
        "files.download('popular_sight_tokyo.csv')"
      ],
      "execution_count": 14,
      "outputs": [
        {
          "output_type": "display_data",
          "data": {
            "application/javascript": [
              "\n",
              "    async function download(id, filename, size) {\n",
              "      if (!google.colab.kernel.accessAllowed) {\n",
              "        return;\n",
              "      }\n",
              "      const div = document.createElement('div');\n",
              "      const label = document.createElement('label');\n",
              "      label.textContent = `Downloading \"${filename}\": `;\n",
              "      div.appendChild(label);\n",
              "      const progress = document.createElement('progress');\n",
              "      progress.max = size;\n",
              "      div.appendChild(progress);\n",
              "      document.body.appendChild(div);\n",
              "\n",
              "      const buffers = [];\n",
              "      let downloaded = 0;\n",
              "\n",
              "      const channel = await google.colab.kernel.comms.open(id);\n",
              "      // Send a message to notify the kernel that we're ready.\n",
              "      channel.send({})\n",
              "\n",
              "      for await (const message of channel.messages) {\n",
              "        // Send a message to notify the kernel that we're ready.\n",
              "        channel.send({})\n",
              "        if (message.buffers) {\n",
              "          for (const buffer of message.buffers) {\n",
              "            buffers.push(buffer);\n",
              "            downloaded += buffer.byteLength;\n",
              "            progress.value = downloaded;\n",
              "          }\n",
              "        }\n",
              "      }\n",
              "      const blob = new Blob(buffers, {type: 'application/binary'});\n",
              "      const a = document.createElement('a');\n",
              "      a.href = window.URL.createObjectURL(blob);\n",
              "      a.download = filename;\n",
              "      div.appendChild(a);\n",
              "      a.click();\n",
              "      div.remove();\n",
              "    }\n",
              "  "
            ],
            "text/plain": [
              "<IPython.core.display.Javascript object>"
            ]
          },
          "metadata": {
            "tags": []
          }
        },
        {
          "output_type": "display_data",
          "data": {
            "application/javascript": [
              "download(\"download_fcab49f0-6713-49cd-a642-e7a5f241b4d8\", \"popular_sight_tokyo.csv\", 465)"
            ],
            "text/plain": [
              "<IPython.core.display.Javascript object>"
            ]
          },
          "metadata": {
            "tags": []
          }
        }
      ]
    },
    {
      "cell_type": "markdown",
      "metadata": {
        "id": "JMSHd6dXWGwq",
        "colab_type": "text"
      },
      "source": [
        "### 4. See What Kind Of and How Many Spots in Each Area in Tokyo\n",
        "\n",
        "*To use Foursquare API, you need to have your credential info to be set up.<br>\n",
        "Click the link below for more information.\n",
        "<br><br>\n",
        "\n",
        "<a hred=\"https://developer.foursquare.com/docs/places-api/getting-started/\" target=\"_blank\">Foursquare API Documentation</a>\n",
        "\n"
      ]
    },
    {
      "cell_type": "code",
      "metadata": {
        "id": "hbNMpZZUVOpK",
        "colab_type": "code",
        "colab": {
          "base_uri": "https://localhost:8080/",
          "height": 50
        },
        "outputId": "dd05bf93-e2b6-478a-e271-95d0d700ea13"
      },
      "source": [
        "# save credential info\n",
        "CLIENT_ID = getpass('Input CLIENT ID: ')\n",
        "CLIENT_SECRET = getpass('Input CLIENT SECRET: ')\n",
        "VERSION = datetime.now().strftime('%Y%m%d')"
      ],
      "execution_count": 15,
      "outputs": [
        {
          "output_type": "stream",
          "text": [
            "Input CLIENT ID: ··········\n",
            "Input CLIENT SECRET: ··········\n"
          ],
          "name": "stdout"
        }
      ]
    },
    {
      "cell_type": "code",
      "metadata": {
        "id": "gbRr-PIsQzEl",
        "colab_type": "code",
        "colab": {
          "base_uri": "https://localhost:8080/",
          "height": 66,
          "referenced_widgets": [
            "7fb6699dbf694998815e7833b9f9037c",
            "61006123dff246a087e298fbb61cf330",
            "dea8d55e4ae9408fad8e632975d5e6e2",
            "66b969a9aa7d49febf22d1db4961fe6e",
            "35c46bed5908434ea3432dcb4b60c6aa",
            "1a7ce92a2a25423e8f19257f0c9b3424",
            "9605dd591abb46138a78c41345c128aa",
            "4400d7629199476482c159920f1cc334"
          ]
        },
        "outputId": "ac8ba5bb-3bd3-49b4-92e2-f8cd896abad6"
      },
      "source": [
        "# check 50 popular spots from each area in Tokyo\n",
        "row_count = each_area_tokyo_median.shape[0]\n",
        "\n",
        "url_base = 'https://api.foursquare.com/v2/venues/explore?client_id={}&client_secret={}&v={}'.format(CLIENT_ID, CLIENT_SECRET, VERSION)\n",
        "RADIUS = 5000\n",
        "\n",
        "place_list = []\n",
        "for i in tqdm(range(row_count)):\n",
        "  row = each_area_tokyo_median.iloc[i]\n",
        "  LL = '{},{}'.format(row[0], row[1])\n",
        "  link = url_base + '&ll={}&radius={}&limit=50&sortByPopularity=1'.format(LL, RADIUS)\n",
        "  response = requests.get(link).json()\n",
        "  try:\n",
        "    response['response']['warning']\n",
        "  except KeyError:\n",
        "    if response['response'] != {}:\n",
        "      total_item_num = len(response['response']['groups'][0]['items'])\n",
        "      for j in range(total_item_num):\n",
        "        place = response['response']['groups'][0]['items'][j]\n",
        "        category = place['venue']['categories'][0]['name']\n",
        "        name = place['venue']['name']\n",
        "        if [each_area_tokyo_median.index[i], name, category] not in place_list:\n",
        "          place_list.append([each_area_tokyo_median.index[i], name, category])"
      ],
      "execution_count": 16,
      "outputs": [
        {
          "output_type": "display_data",
          "data": {
            "application/vnd.jupyter.widget-view+json": {
              "model_id": "7fb6699dbf694998815e7833b9f9037c",
              "version_minor": 0,
              "version_major": 2
            },
            "text/plain": [
              "HBox(children=(FloatProgress(value=0.0, max=62.0), HTML(value='')))"
            ]
          },
          "metadata": {
            "tags": []
          }
        },
        {
          "output_type": "stream",
          "text": [
            "\n"
          ],
          "name": "stdout"
        }
      ]
    },
    {
      "cell_type": "code",
      "metadata": {
        "id": "J7PgNyEMTQWg",
        "colab_type": "code",
        "colab": {}
      },
      "source": [
        "# check the base categories of each spot\n",
        "url_base = 'https://api.foursquare.com/v2/venues/categories?client_id={}&client_secret={}&v={}'.format(CLIENT_ID, CLIENT_SECRET, VERSION)\n",
        "response = requests.get(url_base).json()\n",
        "first_categories = response['response']['categories']\n",
        "\n",
        "category_list = []\n",
        "for first_cat in first_categories:\n",
        "  second_categories = first_cat['categories']\n",
        "  if second_categories != []:\n",
        "    for second_cat in second_categories:\n",
        "      third_categories = second_cat['categories']\n",
        "      if third_categories !=[]:\n",
        "        for third_cat in third_categories:\n",
        "          fourth_categories = third_cat['categories']\n",
        "          if fourth_categories != []:\n",
        "            for fourth_cat in fourth_categories:\n",
        "              fifth_categories = fourth_cat['categories']\n",
        "              if fifth_categories != []:\n",
        "                for fifth_cat in fifth_categories:\n",
        "                  sixth_categories = fifth_cat['categories']\n",
        "                  if sixth_categories != []:\n",
        "                    print('more than 6')\n",
        "                  else:\n",
        "                    category_list.append([first_cat['name'], fifth_cat['name']])                \n",
        "              else:\n",
        "                category_list.append([first_cat['name'], fourth_cat['name']])\n",
        "          else:\n",
        "            category_list.append([first_cat['name'], third_cat['name']])\n",
        "      else:\n",
        "        category_list.append([first_cat['name'], second_cat['name']])\n",
        "  else:\n",
        "    category_list.append([first_cat['name'], first_cat['name']])"
      ],
      "execution_count": 17,
      "outputs": []
    },
    {
      "cell_type": "code",
      "metadata": {
        "id": "B10n89B8aB2B",
        "colab_type": "code",
        "colab": {
          "base_uri": "https://localhost:8080/",
          "height": 200
        },
        "outputId": "d56837a7-a395-498b-cd99-6303701796bb"
      },
      "source": [
        "# create a DataFrame from the list\n",
        "category_df = pd.DataFrame(category_list, columns=['main_category', 'category'])\n",
        "category_df.head()"
      ],
      "execution_count": 18,
      "outputs": [
        {
          "output_type": "execute_result",
          "data": {
            "text/html": [
              "<div>\n",
              "<style scoped>\n",
              "    .dataframe tbody tr th:only-of-type {\n",
              "        vertical-align: middle;\n",
              "    }\n",
              "\n",
              "    .dataframe tbody tr th {\n",
              "        vertical-align: top;\n",
              "    }\n",
              "\n",
              "    .dataframe thead th {\n",
              "        text-align: right;\n",
              "    }\n",
              "</style>\n",
              "<table border=\"1\" class=\"dataframe\">\n",
              "  <thead>\n",
              "    <tr style=\"text-align: right;\">\n",
              "      <th></th>\n",
              "      <th>main_category</th>\n",
              "      <th>category</th>\n",
              "    </tr>\n",
              "  </thead>\n",
              "  <tbody>\n",
              "    <tr>\n",
              "      <th>0</th>\n",
              "      <td>Arts &amp; Entertainment</td>\n",
              "      <td>Amphitheater</td>\n",
              "    </tr>\n",
              "    <tr>\n",
              "      <th>1</th>\n",
              "      <td>Arts &amp; Entertainment</td>\n",
              "      <td>Aquarium</td>\n",
              "    </tr>\n",
              "    <tr>\n",
              "      <th>2</th>\n",
              "      <td>Arts &amp; Entertainment</td>\n",
              "      <td>Arcade</td>\n",
              "    </tr>\n",
              "    <tr>\n",
              "      <th>3</th>\n",
              "      <td>Arts &amp; Entertainment</td>\n",
              "      <td>Art Gallery</td>\n",
              "    </tr>\n",
              "    <tr>\n",
              "      <th>4</th>\n",
              "      <td>Arts &amp; Entertainment</td>\n",
              "      <td>Bowling Alley</td>\n",
              "    </tr>\n",
              "  </tbody>\n",
              "</table>\n",
              "</div>"
            ],
            "text/plain": [
              "          main_category       category\n",
              "0  Arts & Entertainment   Amphitheater\n",
              "1  Arts & Entertainment       Aquarium\n",
              "2  Arts & Entertainment         Arcade\n",
              "3  Arts & Entertainment    Art Gallery\n",
              "4  Arts & Entertainment  Bowling Alley"
            ]
          },
          "metadata": {
            "tags": []
          },
          "execution_count": 18
        }
      ]
    },
    {
      "cell_type": "code",
      "metadata": {
        "id": "RftoGNAzrJ55",
        "colab_type": "code",
        "colab": {
          "base_uri": "https://localhost:8080/",
          "height": 230
        },
        "outputId": "e8ffaf55-55f4-4657-b249-9cc9785fad36"
      },
      "source": [
        "# count the number of spot in each ctegory of each area\n",
        "place_df = pd.DataFrame(place_list, columns=['area', 'place_name', 'category'])\n",
        "place_category_df = pd.merge(place_df, category_df, on='category')\n",
        "place_category_count_df = place_category_df.groupby(['area', 'main_category']).count()\n",
        "place_category_count_df = place_category_count_df[['category']].rename(columns={'category':'count_num'})\n",
        "place_category_count_df.head()"
      ],
      "execution_count": 19,
      "outputs": [
        {
          "output_type": "execute_result",
          "data": {
            "text/html": [
              "<div>\n",
              "<style scoped>\n",
              "    .dataframe tbody tr th:only-of-type {\n",
              "        vertical-align: middle;\n",
              "    }\n",
              "\n",
              "    .dataframe tbody tr th {\n",
              "        vertical-align: top;\n",
              "    }\n",
              "\n",
              "    .dataframe thead th {\n",
              "        text-align: right;\n",
              "    }\n",
              "</style>\n",
              "<table border=\"1\" class=\"dataframe\">\n",
              "  <thead>\n",
              "    <tr style=\"text-align: right;\">\n",
              "      <th></th>\n",
              "      <th></th>\n",
              "      <th>count_num</th>\n",
              "    </tr>\n",
              "    <tr>\n",
              "      <th>area</th>\n",
              "      <th>main_category</th>\n",
              "      <th></th>\n",
              "    </tr>\n",
              "  </thead>\n",
              "  <tbody>\n",
              "    <tr>\n",
              "      <th rowspan=\"4\" valign=\"top\">Adachi City</th>\n",
              "      <th>Arts &amp; Entertainment</th>\n",
              "      <td>2</td>\n",
              "    </tr>\n",
              "    <tr>\n",
              "      <th>Food</th>\n",
              "      <td>11</td>\n",
              "    </tr>\n",
              "    <tr>\n",
              "      <th>Outdoors &amp; Recreation</th>\n",
              "      <td>8</td>\n",
              "    </tr>\n",
              "    <tr>\n",
              "      <th>Shop &amp; Service</th>\n",
              "      <td>22</td>\n",
              "    </tr>\n",
              "    <tr>\n",
              "      <th>Akiruno</th>\n",
              "      <th>Arts &amp; Entertainment</th>\n",
              "      <td>3</td>\n",
              "    </tr>\n",
              "  </tbody>\n",
              "</table>\n",
              "</div>"
            ],
            "text/plain": [
              "                                   count_num\n",
              "area        main_category                   \n",
              "Adachi City Arts & Entertainment           2\n",
              "            Food                          11\n",
              "            Outdoors & Recreation          8\n",
              "            Shop & Service                22\n",
              "Akiruno     Arts & Entertainment           3"
            ]
          },
          "metadata": {
            "tags": []
          },
          "execution_count": 19
        }
      ]
    },
    {
      "cell_type": "code",
      "metadata": {
        "id": "C4JGc4rASi-d",
        "colab_type": "code",
        "colab": {
          "base_uri": "https://localhost:8080/",
          "height": 17
        },
        "outputId": "8bfa4be4-7b4b-4af6-9fdd-b458c63e73b2"
      },
      "source": [
        "# download the DataFrame as a CSV file\n",
        "place_category_count_df.to_csv('tokyo_category_count.csv')\n",
        "files.download('tokyo_category_count.csv')"
      ],
      "execution_count": 20,
      "outputs": [
        {
          "output_type": "display_data",
          "data": {
            "application/javascript": [
              "\n",
              "    async function download(id, filename, size) {\n",
              "      if (!google.colab.kernel.accessAllowed) {\n",
              "        return;\n",
              "      }\n",
              "      const div = document.createElement('div');\n",
              "      const label = document.createElement('label');\n",
              "      label.textContent = `Downloading \"${filename}\": `;\n",
              "      div.appendChild(label);\n",
              "      const progress = document.createElement('progress');\n",
              "      progress.max = size;\n",
              "      div.appendChild(progress);\n",
              "      document.body.appendChild(div);\n",
              "\n",
              "      const buffers = [];\n",
              "      let downloaded = 0;\n",
              "\n",
              "      const channel = await google.colab.kernel.comms.open(id);\n",
              "      // Send a message to notify the kernel that we're ready.\n",
              "      channel.send({})\n",
              "\n",
              "      for await (const message of channel.messages) {\n",
              "        // Send a message to notify the kernel that we're ready.\n",
              "        channel.send({})\n",
              "        if (message.buffers) {\n",
              "          for (const buffer of message.buffers) {\n",
              "            buffers.push(buffer);\n",
              "            downloaded += buffer.byteLength;\n",
              "            progress.value = downloaded;\n",
              "          }\n",
              "        }\n",
              "      }\n",
              "      const blob = new Blob(buffers, {type: 'application/binary'});\n",
              "      const a = document.createElement('a');\n",
              "      a.href = window.URL.createObjectURL(blob);\n",
              "      a.download = filename;\n",
              "      div.appendChild(a);\n",
              "      a.click();\n",
              "      div.remove();\n",
              "    }\n",
              "  "
            ],
            "text/plain": [
              "<IPython.core.display.Javascript object>"
            ]
          },
          "metadata": {
            "tags": []
          }
        },
        {
          "output_type": "display_data",
          "data": {
            "application/javascript": [
              "download(\"download_8424a498-0376-4258-8dd4-c4f8add337e9\", \"tokyo_category_count.csv\", 9038)"
            ],
            "text/plain": [
              "<IPython.core.display.Javascript object>"
            ]
          },
          "metadata": {
            "tags": []
          }
        }
      ]
    }
  ]
}