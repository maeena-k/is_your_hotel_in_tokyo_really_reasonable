{
  "nbformat": 4,
  "nbformat_minor": 0,
  "metadata": {
    "colab": {
      "name": "tokyo_land_price_data_acquisition.ipynb",
      "provenance": []
    },
    "kernelspec": {
      "name": "python3",
      "display_name": "Python 3"
    },
    "widgets": {
      "application/vnd.jupyter.widget-state+json": {
        "e14c3097f46d4d019363677cad4c0f97": {
          "model_module": "@jupyter-widgets/controls",
          "model_name": "HBoxModel",
          "state": {
            "_view_name": "HBoxView",
            "_dom_classes": [],
            "_model_name": "HBoxModel",
            "_view_module": "@jupyter-widgets/controls",
            "_model_module_version": "1.5.0",
            "_view_count": null,
            "_view_module_version": "1.5.0",
            "box_style": "",
            "layout": "IPY_MODEL_ece986e0a0dc43e8802ccef81ef9ec02",
            "_model_module": "@jupyter-widgets/controls",
            "children": [
              "IPY_MODEL_1539f129901d4d2882143d746afb3264",
              "IPY_MODEL_4d82e1808d6f4f1c999c3718e2a5abb1"
            ]
          }
        },
        "ece986e0a0dc43e8802ccef81ef9ec02": {
          "model_module": "@jupyter-widgets/base",
          "model_name": "LayoutModel",
          "state": {
            "_view_name": "LayoutView",
            "grid_template_rows": null,
            "right": null,
            "justify_content": null,
            "_view_module": "@jupyter-widgets/base",
            "overflow": null,
            "_model_module_version": "1.2.0",
            "_view_count": null,
            "flex_flow": null,
            "width": null,
            "min_width": null,
            "border": null,
            "align_items": null,
            "bottom": null,
            "_model_module": "@jupyter-widgets/base",
            "top": null,
            "grid_column": null,
            "overflow_y": null,
            "overflow_x": null,
            "grid_auto_flow": null,
            "grid_area": null,
            "grid_template_columns": null,
            "flex": null,
            "_model_name": "LayoutModel",
            "justify_items": null,
            "grid_row": null,
            "max_height": null,
            "align_content": null,
            "visibility": null,
            "align_self": null,
            "height": null,
            "min_height": null,
            "padding": null,
            "grid_auto_rows": null,
            "grid_gap": null,
            "max_width": null,
            "order": null,
            "_view_module_version": "1.2.0",
            "grid_template_areas": null,
            "object_position": null,
            "object_fit": null,
            "grid_auto_columns": null,
            "margin": null,
            "display": null,
            "left": null
          }
        },
        "1539f129901d4d2882143d746afb3264": {
          "model_module": "@jupyter-widgets/controls",
          "model_name": "FloatProgressModel",
          "state": {
            "_view_name": "ProgressView",
            "style": "IPY_MODEL_344dc81efee141e095f8743281bec01b",
            "_dom_classes": [],
            "description": "100%",
            "_model_name": "FloatProgressModel",
            "bar_style": "success",
            "max": 2602,
            "_view_module": "@jupyter-widgets/controls",
            "_model_module_version": "1.5.0",
            "value": 2602,
            "_view_count": null,
            "_view_module_version": "1.5.0",
            "orientation": "horizontal",
            "min": 0,
            "description_tooltip": null,
            "_model_module": "@jupyter-widgets/controls",
            "layout": "IPY_MODEL_4b45b778bfe6430eaddf2a7d45f3c6f7"
          }
        },
        "4d82e1808d6f4f1c999c3718e2a5abb1": {
          "model_module": "@jupyter-widgets/controls",
          "model_name": "HTMLModel",
          "state": {
            "_view_name": "HTMLView",
            "style": "IPY_MODEL_efcbb0107910411f907b65c61cfb88d2",
            "_dom_classes": [],
            "description": "",
            "_model_name": "HTMLModel",
            "placeholder": "​",
            "_view_module": "@jupyter-widgets/controls",
            "_model_module_version": "1.5.0",
            "value": " 2602/2602 [09:50&lt;00:00,  4.40it/s]",
            "_view_count": null,
            "_view_module_version": "1.5.0",
            "description_tooltip": null,
            "_model_module": "@jupyter-widgets/controls",
            "layout": "IPY_MODEL_cc6d8f48ccc74bcca4da4ec14de0555e"
          }
        },
        "344dc81efee141e095f8743281bec01b": {
          "model_module": "@jupyter-widgets/controls",
          "model_name": "ProgressStyleModel",
          "state": {
            "_view_name": "StyleView",
            "_model_name": "ProgressStyleModel",
            "description_width": "initial",
            "_view_module": "@jupyter-widgets/base",
            "_model_module_version": "1.5.0",
            "_view_count": null,
            "_view_module_version": "1.2.0",
            "bar_color": null,
            "_model_module": "@jupyter-widgets/controls"
          }
        },
        "4b45b778bfe6430eaddf2a7d45f3c6f7": {
          "model_module": "@jupyter-widgets/base",
          "model_name": "LayoutModel",
          "state": {
            "_view_name": "LayoutView",
            "grid_template_rows": null,
            "right": null,
            "justify_content": null,
            "_view_module": "@jupyter-widgets/base",
            "overflow": null,
            "_model_module_version": "1.2.0",
            "_view_count": null,
            "flex_flow": null,
            "width": null,
            "min_width": null,
            "border": null,
            "align_items": null,
            "bottom": null,
            "_model_module": "@jupyter-widgets/base",
            "top": null,
            "grid_column": null,
            "overflow_y": null,
            "overflow_x": null,
            "grid_auto_flow": null,
            "grid_area": null,
            "grid_template_columns": null,
            "flex": null,
            "_model_name": "LayoutModel",
            "justify_items": null,
            "grid_row": null,
            "max_height": null,
            "align_content": null,
            "visibility": null,
            "align_self": null,
            "height": null,
            "min_height": null,
            "padding": null,
            "grid_auto_rows": null,
            "grid_gap": null,
            "max_width": null,
            "order": null,
            "_view_module_version": "1.2.0",
            "grid_template_areas": null,
            "object_position": null,
            "object_fit": null,
            "grid_auto_columns": null,
            "margin": null,
            "display": null,
            "left": null
          }
        },
        "efcbb0107910411f907b65c61cfb88d2": {
          "model_module": "@jupyter-widgets/controls",
          "model_name": "DescriptionStyleModel",
          "state": {
            "_view_name": "StyleView",
            "_model_name": "DescriptionStyleModel",
            "description_width": "",
            "_view_module": "@jupyter-widgets/base",
            "_model_module_version": "1.5.0",
            "_view_count": null,
            "_view_module_version": "1.2.0",
            "_model_module": "@jupyter-widgets/controls"
          }
        },
        "cc6d8f48ccc74bcca4da4ec14de0555e": {
          "model_module": "@jupyter-widgets/base",
          "model_name": "LayoutModel",
          "state": {
            "_view_name": "LayoutView",
            "grid_template_rows": null,
            "right": null,
            "justify_content": null,
            "_view_module": "@jupyter-widgets/base",
            "overflow": null,
            "_model_module_version": "1.2.0",
            "_view_count": null,
            "flex_flow": null,
            "width": null,
            "min_width": null,
            "border": null,
            "align_items": null,
            "bottom": null,
            "_model_module": "@jupyter-widgets/base",
            "top": null,
            "grid_column": null,
            "overflow_y": null,
            "overflow_x": null,
            "grid_auto_flow": null,
            "grid_area": null,
            "grid_template_columns": null,
            "flex": null,
            "_model_name": "LayoutModel",
            "justify_items": null,
            "grid_row": null,
            "max_height": null,
            "align_content": null,
            "visibility": null,
            "align_self": null,
            "height": null,
            "min_height": null,
            "padding": null,
            "grid_auto_rows": null,
            "grid_gap": null,
            "max_width": null,
            "order": null,
            "_view_module_version": "1.2.0",
            "grid_template_areas": null,
            "object_position": null,
            "object_fit": null,
            "grid_auto_columns": null,
            "margin": null,
            "display": null,
            "left": null
          }
        }
      }
    }
  },
  "cells": [
    {
      "cell_type": "markdown",
      "metadata": {
        "id": "rm1Si8BuWKTb",
        "colab_type": "text"
      },
      "source": [
        "# 4 STEP TO CREATE A CSV OF TOKYO LAND PRICE LIST\n",
        "\n",
        "## 1.   Import the Libraries\n",
        "## 2.   Get CSV file of Tokyo Land Price List(in Japanese)\n",
        "## 3.   Get Latitude and Longitude Value for Each Land\n",
        "## 4.   Save DataFrame as a CSV File\n",
        "\n"
      ]
    },
    {
      "cell_type": "markdown",
      "metadata": {
        "id": "4RJtBxwKWlkG",
        "colab_type": "text"
      },
      "source": [
        "### 1. Import the Libraries"
      ]
    },
    {
      "cell_type": "code",
      "metadata": {
        "id": "CaWPRp4eT2ji",
        "colab_type": "code",
        "colab": {}
      },
      "source": [
        "# for data processing\n",
        "import pandas as pd\n",
        "\n",
        "# for send request\n",
        "import requests\n",
        "\n",
        "# for displaying a progress bar\n",
        "from tqdm.notebook import tqdm\n",
        "\n",
        "# for user input for your Google Api Key\n",
        "from getpass import getpass\n",
        "\n",
        "# for downloading csv file(if you use Google Colab)\n",
        "from google.colab import files"
      ],
      "execution_count": 1,
      "outputs": []
    },
    {
      "cell_type": "markdown",
      "metadata": {
        "id": "s_UHE-AQvrrC",
        "colab_type": "text"
      },
      "source": [
        "### 2. Get CSV file of Tokyo Land Price List and Save it to DataFrame"
      ]
    },
    {
      "cell_type": "code",
      "metadata": {
        "id": "RBKOVQRVZE__",
        "colab_type": "code",
        "colab": {
          "base_uri": "https://localhost:8080/",
          "height": 200
        },
        "outputId": "990f8220-c32c-484d-9ce0-5b1b8558a671"
      },
      "source": [
        "# get csv file from Tokyo metropolitan page\n",
        "url = 'https://www.zaimu.metro.tokyo.lg.jp/kijunchi/R2kouji/R2kouji_chiten_data.csv'\n",
        "price_df_jp = pd.read_csv(url, encoding='cp932', header=1)\n",
        "\n",
        "# change the name of columns\n",
        "price_df_jp = price_df_jp[['区市町村名', '地番', '当年価格（円）']]\n",
        "price_df_jp.columns = ['ward_name', 'address_detail', 'land_price']\n",
        "\n",
        "# drop nan and change datatype of two columns to int\n",
        "price_df_jp.dropna(axis=0, inplace=True)\n",
        "price_df_jp['land_price'] = price_df_jp['land_price'].str.replace(',','').astype(int)\n",
        "price_df_jp.head()"
      ],
      "execution_count": 2,
      "outputs": [
        {
          "output_type": "execute_result",
          "data": {
            "text/html": [
              "<div>\n",
              "<style scoped>\n",
              "    .dataframe tbody tr th:only-of-type {\n",
              "        vertical-align: middle;\n",
              "    }\n",
              "\n",
              "    .dataframe tbody tr th {\n",
              "        vertical-align: top;\n",
              "    }\n",
              "\n",
              "    .dataframe thead th {\n",
              "        text-align: right;\n",
              "    }\n",
              "</style>\n",
              "<table border=\"1\" class=\"dataframe\">\n",
              "  <thead>\n",
              "    <tr style=\"text-align: right;\">\n",
              "      <th></th>\n",
              "      <th>ward_name</th>\n",
              "      <th>address_detail</th>\n",
              "      <th>land_price</th>\n",
              "    </tr>\n",
              "  </thead>\n",
              "  <tbody>\n",
              "    <tr>\n",
              "      <th>0</th>\n",
              "      <td>千代田区</td>\n",
              "      <td>三番町６番２５</td>\n",
              "      <td>3160000</td>\n",
              "    </tr>\n",
              "    <tr>\n",
              "      <th>1</th>\n",
              "      <td>千代田区</td>\n",
              "      <td>紀尾井町３番２７外</td>\n",
              "      <td>2020000</td>\n",
              "    </tr>\n",
              "    <tr>\n",
              "      <th>2</th>\n",
              "      <td>千代田区</td>\n",
              "      <td>六番町６番１外</td>\n",
              "      <td>4050000</td>\n",
              "    </tr>\n",
              "    <tr>\n",
              "      <th>3</th>\n",
              "      <td>千代田区</td>\n",
              "      <td>富士見１丁目８番６</td>\n",
              "      <td>1550000</td>\n",
              "    </tr>\n",
              "    <tr>\n",
              "      <th>4</th>\n",
              "      <td>千代田区</td>\n",
              "      <td>九段北２丁目６番２６</td>\n",
              "      <td>2960000</td>\n",
              "    </tr>\n",
              "  </tbody>\n",
              "</table>\n",
              "</div>"
            ],
            "text/plain": [
              "  ward_name address_detail  land_price\n",
              "0      千代田区        三番町６番２５     3160000\n",
              "1      千代田区      紀尾井町３番２７外     2020000\n",
              "2      千代田区        六番町６番１外     4050000\n",
              "3      千代田区      富士見１丁目８番６     1550000\n",
              "4      千代田区     九段北２丁目６番２６     2960000"
            ]
          },
          "metadata": {
            "tags": []
          },
          "execution_count": 2
        }
      ]
    },
    {
      "cell_type": "markdown",
      "metadata": {
        "id": "0Hi02XdQIcHU",
        "colab_type": "text"
      },
      "source": [
        "### 3. Get Latitude and Longitude Value for Each Land\n",
        "\n",
        "To use Google Geocoding API, you need to have API KEY to be set up.<br>\n",
        "Check the link below for more information.\n",
        "<br><br>\n",
        "<a href=\"https://developers.google.com/maps/documentation/geocoding/get-api-key\" target=\"_blank\">Google Geocoding API Documentation</a>\n",
        "<hr>\n",
        "\n"
      ]
    },
    {
      "cell_type": "code",
      "metadata": {
        "id": "rniEEtBuiJNk",
        "colab_type": "code",
        "colab": {
          "base_uri": "https://localhost:8080/",
          "height": 50
        },
        "outputId": "e19670c0-b83b-4277-efe7-23c7b7d64695"
      },
      "source": [
        "# input your Google Api key\n",
        "API_KEY = getpass('INPUT YOUR GOOGLE API KEY \\nAND PRESS ENTER: ')"
      ],
      "execution_count": 3,
      "outputs": [
        {
          "output_type": "stream",
          "text": [
            "INPUT YOUR GOOGLE API KEY \n",
            "AND PRESS ENTER: ··········\n"
          ],
          "name": "stdout"
        }
      ]
    },
    {
      "cell_type": "code",
      "metadata": {
        "id": "Pisy4ToOD86K",
        "colab_type": "code",
        "colab": {
          "base_uri": "https://localhost:8080/",
          "height": 66,
          "referenced_widgets": [
            "e14c3097f46d4d019363677cad4c0f97",
            "ece986e0a0dc43e8802ccef81ef9ec02",
            "1539f129901d4d2882143d746afb3264",
            "4d82e1808d6f4f1c999c3718e2a5abb1",
            "344dc81efee141e095f8743281bec01b",
            "4b45b778bfe6430eaddf2a7d45f3c6f7",
            "efcbb0107910411f907b65c61cfb88d2",
            "cc6d8f48ccc74bcca4da4ec14de0555e"
          ]
        },
        "outputId": "7b4ad1a6-73c4-4a95-e3ff-08d0e8df4c8a"
      },
      "source": [
        "# geocoding from address to location data\n",
        "land_values_list = []\n",
        "row_count = price_df_jp.shape[0]\n",
        "\n",
        "for i in tqdm(range(row_count)):\n",
        "  row = price_df_jp.iloc[i]\n",
        "  address = row[0] + row[1]\n",
        "  link = 'https://maps.googleapis.com/maps/api/geocode/json?address={}&key={}'.format(address, API_KEY)\n",
        "  r = requests.get(link)\n",
        "  map_json = r.json()\n",
        "  if map_json['status'] == 'ZERO_RESULTS':\n",
        "    lat, lon, area_name, address_detail_en, land_price = None, None, None, None, None\n",
        "  else:\n",
        "    for area in map_json['results'][0]['address_components']:\n",
        "      if 'locality' in area['types']:\n",
        "        area_name = area['long_name']\n",
        "    lat = map_json['results'][0]['geometry']['location']['lat']\n",
        "    lon = map_json['results'][0]['geometry']['location']['lng']\n",
        "    address_detail_en = map_json['results'][0]['formatted_address']\n",
        "    land_price = row[2]\n",
        "  land_values_list.append([area_name, address_detail_en, lat, lon, land_price])"
      ],
      "execution_count": 4,
      "outputs": [
        {
          "output_type": "display_data",
          "data": {
            "application/vnd.jupyter.widget-view+json": {
              "model_id": "e14c3097f46d4d019363677cad4c0f97",
              "version_minor": 0,
              "version_major": 2
            },
            "text/plain": [
              "HBox(children=(FloatProgress(value=0.0, max=2602.0), HTML(value='')))"
            ]
          },
          "metadata": {
            "tags": []
          }
        },
        {
          "output_type": "stream",
          "text": [
            "\n"
          ],
          "name": "stdout"
        }
      ]
    },
    {
      "cell_type": "markdown",
      "metadata": {
        "id": "U87szOYxbfXt",
        "colab_type": "text"
      },
      "source": [
        "### 4. Save DataFrame as a CSV File"
      ]
    },
    {
      "cell_type": "code",
      "metadata": {
        "id": "6rEHZ20jBk6p",
        "colab_type": "code",
        "colab": {
          "base_uri": "https://localhost:8080/",
          "height": 200
        },
        "outputId": "f5445114-564f-44fa-f507-9ff0ffea468b"
      },
      "source": [
        "# create a new DataFrame\n",
        "price_df_en = pd.DataFrame(land_values_list, columns=['area_name', 'address_detail', 'lat', 'lon', 'land_price_per_square_meter'])\n",
        "price_df_en.head()"
      ],
      "execution_count": 5,
      "outputs": [
        {
          "output_type": "execute_result",
          "data": {
            "text/html": [
              "<div>\n",
              "<style scoped>\n",
              "    .dataframe tbody tr th:only-of-type {\n",
              "        vertical-align: middle;\n",
              "    }\n",
              "\n",
              "    .dataframe tbody tr th {\n",
              "        vertical-align: top;\n",
              "    }\n",
              "\n",
              "    .dataframe thead th {\n",
              "        text-align: right;\n",
              "    }\n",
              "</style>\n",
              "<table border=\"1\" class=\"dataframe\">\n",
              "  <thead>\n",
              "    <tr style=\"text-align: right;\">\n",
              "      <th></th>\n",
              "      <th>area_name</th>\n",
              "      <th>address_detail</th>\n",
              "      <th>lat</th>\n",
              "      <th>lon</th>\n",
              "      <th>land_price_per_square_meter</th>\n",
              "    </tr>\n",
              "  </thead>\n",
              "  <tbody>\n",
              "    <tr>\n",
              "      <th>0</th>\n",
              "      <td>Chiyoda City</td>\n",
              "      <td>6-25 Sanbanchō, Chiyoda City, Tōkyō-to 102-007...</td>\n",
              "      <td>35.690086</td>\n",
              "      <td>139.744837</td>\n",
              "      <td>3160000.0</td>\n",
              "    </tr>\n",
              "    <tr>\n",
              "      <th>1</th>\n",
              "      <td>Chiyoda City</td>\n",
              "      <td>3-27 Kioichō, Chiyoda City, Tōkyō-to 102-0094,...</td>\n",
              "      <td>35.682015</td>\n",
              "      <td>139.737615</td>\n",
              "      <td>2020000.0</td>\n",
              "    </tr>\n",
              "    <tr>\n",
              "      <th>2</th>\n",
              "      <td>Chiyoda City</td>\n",
              "      <td>6-1 Rokubanchō, Chiyoda City, Tōkyō-to 102-008...</td>\n",
              "      <td>35.688143</td>\n",
              "      <td>139.732869</td>\n",
              "      <td>4050000.0</td>\n",
              "    </tr>\n",
              "    <tr>\n",
              "      <th>3</th>\n",
              "      <td>Chiyoda City</td>\n",
              "      <td>1-chōme-8-6 Fujimi, Chiyoda City, Tōkyō-to 102...</td>\n",
              "      <td>35.697784</td>\n",
              "      <td>139.745095</td>\n",
              "      <td>1550000.0</td>\n",
              "    </tr>\n",
              "    <tr>\n",
              "      <th>4</th>\n",
              "      <td>Chiyoda City</td>\n",
              "      <td>2 Chome Kudankita, Chiyoda City, Tokyo 102-007...</td>\n",
              "      <td>35.695576</td>\n",
              "      <td>139.746362</td>\n",
              "      <td>2960000.0</td>\n",
              "    </tr>\n",
              "  </tbody>\n",
              "</table>\n",
              "</div>"
            ],
            "text/plain": [
              "      area_name  ... land_price_per_square_meter\n",
              "0  Chiyoda City  ...                   3160000.0\n",
              "1  Chiyoda City  ...                   2020000.0\n",
              "2  Chiyoda City  ...                   4050000.0\n",
              "3  Chiyoda City  ...                   1550000.0\n",
              "4  Chiyoda City  ...                   2960000.0\n",
              "\n",
              "[5 rows x 5 columns]"
            ]
          },
          "metadata": {
            "tags": []
          },
          "execution_count": 5
        }
      ]
    },
    {
      "cell_type": "code",
      "metadata": {
        "id": "qqHvW4HvXWLv",
        "colab_type": "code",
        "colab": {
          "base_uri": "https://localhost:8080/",
          "height": 17
        },
        "outputId": "ef0aa678-0324-4d26-a871-6cb667c961f9"
      },
      "source": [
        "# save as a csv file to local storage\n",
        "price_df_en.to_csv('tokyo_land_price_data.csv')\n",
        "files.download('tokyo_land_price_data.csv')"
      ],
      "execution_count": 6,
      "outputs": [
        {
          "output_type": "display_data",
          "data": {
            "application/javascript": [
              "\n",
              "    async function download(id, filename, size) {\n",
              "      if (!google.colab.kernel.accessAllowed) {\n",
              "        return;\n",
              "      }\n",
              "      const div = document.createElement('div');\n",
              "      const label = document.createElement('label');\n",
              "      label.textContent = `Downloading \"${filename}\": `;\n",
              "      div.appendChild(label);\n",
              "      const progress = document.createElement('progress');\n",
              "      progress.max = size;\n",
              "      div.appendChild(progress);\n",
              "      document.body.appendChild(div);\n",
              "\n",
              "      const buffers = [];\n",
              "      let downloaded = 0;\n",
              "\n",
              "      const channel = await google.colab.kernel.comms.open(id);\n",
              "      // Send a message to notify the kernel that we're ready.\n",
              "      channel.send({})\n",
              "\n",
              "      for await (const message of channel.messages) {\n",
              "        // Send a message to notify the kernel that we're ready.\n",
              "        channel.send({})\n",
              "        if (message.buffers) {\n",
              "          for (const buffer of message.buffers) {\n",
              "            buffers.push(buffer);\n",
              "            downloaded += buffer.byteLength;\n",
              "            progress.value = downloaded;\n",
              "          }\n",
              "        }\n",
              "      }\n",
              "      const blob = new Blob(buffers, {type: 'application/binary'});\n",
              "      const a = document.createElement('a');\n",
              "      a.href = window.URL.createObjectURL(blob);\n",
              "      a.download = filename;\n",
              "      div.appendChild(a);\n",
              "      a.click();\n",
              "      div.remove();\n",
              "    }\n",
              "  "
            ],
            "text/plain": [
              "<IPython.core.display.Javascript object>"
            ]
          },
          "metadata": {
            "tags": []
          }
        },
        {
          "output_type": "display_data",
          "data": {
            "application/javascript": [
              "download(\"download_91e4d590-b07d-497d-b7f1-9d50ab368531\", \"tokyo_land_price_data.csv\", 276725)"
            ],
            "text/plain": [
              "<IPython.core.display.Javascript object>"
            ]
          },
          "metadata": {
            "tags": []
          }
        }
      ]
    }
  ]
}